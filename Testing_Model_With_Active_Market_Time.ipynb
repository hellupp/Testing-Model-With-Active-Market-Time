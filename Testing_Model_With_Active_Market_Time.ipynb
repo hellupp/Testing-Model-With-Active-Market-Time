{
  "metadata": {
    "language_info": {
      "codemirror_mode": {
        "name": "python",
        "version": 3
      },
      "file_extension": ".py",
      "mimetype": "text/x-python",
      "name": "python",
      "nbconvert_exporter": "python",
      "pygments_lexer": "ipython3",
      "version": "3.8"
    },
    "kernelspec": {
      "name": "python",
      "display_name": "Python (Pyodide)",
      "language": "python"
    }
  },
  "nbformat_minor": 4,
  "nbformat": 4,
  "cells": [
    {
      "cell_type": "code",
      "source": "import math\nimport numpy as np\nimport pandas as pd\nimport scipy.integrate as integrate\nfrom scipy.stats import norm\nfrom scipy.stats import t\nfrom scipy.stats import invgamma\nfrom scipy.stats import chi2\n\nS0 = 196\nr = 0.05\nteta = 0.01433\nsigma = 0.89\n\nn = 1000",
      "metadata": {
        "trusted": true
      },
      "execution_count": 1,
      "outputs": []
    },
    {
      "cell_type": "code",
      "source": "def calculate_parameters():\n    historical_data = pd.read_csv(\"data_ALL/historical_data.csv\")\n    log_returns = np.log(historical_data['Last']/historical_data['Last'].shift(1))\n    log_returns.dropna(inplace=True)\n    nu, mu, delta = t.fit(log_returns)\n    delta = math.sqrt(delta*252)\n    return nu, mu, delta\n\nnu, mu, delta = calculate_parameters()\nprint(\"nu = \" + str(nu))\nprint(\"mu = \" + str(mu))\nprint(\"delta = \" + str(delta))",
      "metadata": {
        "trusted": true
      },
      "execution_count": 2,
      "outputs": [
        {
          "name": "stdout",
          "text": "nu = 12.122281271175913\nmu = -0.001771446205980524\ndelta = 3.123328498823122\n",
          "output_type": "stream"
        }
      ]
    },
    {
      "cell_type": "code",
      "source": "def d1_cdf(Y, S, K, sigma, r, t):\n    d1 = (math.log(S/K) + r*Y + 0.5*sigma*sigma*t)/(sigma*math.sqrt(t))\n    return norm.cdf(d1)",
      "metadata": {
        "trusted": true
      },
      "execution_count": 3,
      "outputs": []
    },
    {
      "cell_type": "code",
      "source": "def d2_cdf(Y, S, K, sigma, r, t):\n    d2 = (math.log(S/K) + r*Y - 0.5*sigma*sigma*t)/(sigma*math.sqrt(t))\n    return norm.cdf(d2)",
      "metadata": {
        "trusted": true
      },
      "execution_count": 4,
      "outputs": []
    },
    {
      "cell_type": "code",
      "source": "def fty(Y, t, nu, delta):\n    a = (delta*delta)/2\n    b = nu/2\n    E = (delta*delta)/(nu-2)\n    x = (t - E*(math.sqrt(Y) - Y)) / math.sqrt(Y)\n    if x <= 0:\n        return 0\n    else:\n        return (math.pow(a,b) / math.gamma(b)) * (x**(-b-1)) * (math.exp(-(a/x)))",
      "metadata": {
        "trusted": true
      },
      "execution_count": 5,
      "outputs": []
    },
    {
      "cell_type": "code",
      "source": "def option_price(Y, K, S, d1_cdf, d2_cdf, r, nu, delta, sigma):\n    def expr(t):\n        d1_t = d1_cdf(Y, S, K, sigma, r, t)\n        d2_t = d2_cdf(Y, S, K, sigma, r, t)\n        fty_t = fty(Y, t, nu, delta)\n        return ((S*d1_t - K*math.exp(-r*Y)*d2_t) * fty_t)\n    return integrate.quad(expr, 0, np.inf)[0]",
      "metadata": {
        "trusted": true
      },
      "execution_count": 6,
      "outputs": []
    },
    {
      "cell_type": "code",
      "source": "def value_at_risk(data, alpha = 0.95):\n    sorted_data = np.sort(data)\n    VaR = np.quantile(sorted_data, alpha)\n    return VaR",
      "metadata": {
        "trusted": true
      },
      "execution_count": 7,
      "outputs": []
    },
    {
      "cell_type": "code",
      "source": "def monte_carlo_VaR(n, nu, delta, mu, S0, delta_t, teta, sigma, Y, K, r):\n    mu_noise, sigma_noise = 0, 1\n    white_noise_S = np.random.normal(mu_noise, sigma_noise, size = n)\n    \n    p_t = option_price(Y, K, S0, d1_cdf, d2_cdf, r, nu, delta, sigma)\n    \n    t_t = invgamma.rvs(scale=((delta*delta)/2), size=n, a=(nu/2))\n    \n    S_t_next = np.zeros(len(white_noise_S))\n    for i in range(len(white_noise_S)):\n        S_t_next[i] = S0 + mu*S0*delta_t + S0*(teta + ((sigma**2)/2))*t_t[i] + sigma*math.sqrt(t_t[i])*white_noise_S[i]\n        \n    p_t_next = np.zeros(len(white_noise_S))\n    for i in range(len(white_noise_S)):\n        p_t_next[i] = option_price((Y - delta_t), K, S_t_next[i], d1_cdf, d2_cdf, r, nu, delta, sigma)\n    \n    p_t_diff = np.zeros(len(white_noise_S))\n    for i in range(len(white_noise_S)):\n        p_t_diff[i] = p_t_next[i] - p_t\n    \n    VaR = value_at_risk(p_t_diff)\n\n    return VaR",
      "metadata": {
        "trusted": true
      },
      "execution_count": 8,
      "outputs": []
    },
    {
      "cell_type": "code",
      "source": "data_raw = pd.read_csv(\"data_ALL/nasdaq_TSLA_data.csv\")\n\noption_table = pd.pivot_table(data = data_raw, values = 'Last', index = 'Strike', columns = 'Date', fill_value = '-')\noption_table = option_table.loc[(option_table.index > 192.5) & (option_table.index < 215)]\nvar_table = option_table.copy()\nvar_table.columns.name = None\nvar_table = var_table.reset_index()\nvar_table",
      "metadata": {
        "trusted": true
      },
      "execution_count": 9,
      "outputs": [
        {
          "execution_count": 9,
          "output_type": "execute_result",
          "data": {
            "text/plain": "   Strike 10.02.2023 11.02.2023 12.02.2023 13.02.2023 14.02.2023 15.02.2023  \\\n0   195.0      16.56      16.51      11.52        8.9       6.55      15.59   \n1   197.5       15.0       14.0       9.23       7.57        5.4      13.54   \n2   200.0      13.45      11.73       8.37       6.52       4.43      11.65   \n3   202.5      11.85       9.98       7.52        5.5        3.6       9.82   \n4   205.0      10.59       8.25        6.5       4.75       2.92       8.25   \n5   207.5       9.35       7.11        5.0       3.98       2.36       6.81   \n6   210.0       8.25       6.21       4.44       3.35       1.92       5.56   \n7   212.5        7.2       5.09       3.75       2.83       1.51        4.5   \n\n  16.02.2023 17.02.2023  \n0       19.5       22.1  \n1      17.25       19.0  \n2       15.1      17.09  \n3       12.9      15.49  \n4       10.8      13.64  \n5       8.95      11.21  \n6        7.2       9.99  \n7       5.75       8.56  ",
            "text/html": "<div>\n<style scoped>\n    .dataframe tbody tr th:only-of-type {\n        vertical-align: middle;\n    }\n\n    .dataframe tbody tr th {\n        vertical-align: top;\n    }\n\n    .dataframe thead th {\n        text-align: right;\n    }\n</style>\n<table border=\"1\" class=\"dataframe\">\n  <thead>\n    <tr style=\"text-align: right;\">\n      <th></th>\n      <th>Strike</th>\n      <th>10.02.2023</th>\n      <th>11.02.2023</th>\n      <th>12.02.2023</th>\n      <th>13.02.2023</th>\n      <th>14.02.2023</th>\n      <th>15.02.2023</th>\n      <th>16.02.2023</th>\n      <th>17.02.2023</th>\n    </tr>\n  </thead>\n  <tbody>\n    <tr>\n      <th>0</th>\n      <td>195.0</td>\n      <td>16.56</td>\n      <td>16.51</td>\n      <td>11.52</td>\n      <td>8.9</td>\n      <td>6.55</td>\n      <td>15.59</td>\n      <td>19.5</td>\n      <td>22.1</td>\n    </tr>\n    <tr>\n      <th>1</th>\n      <td>197.5</td>\n      <td>15.0</td>\n      <td>14.0</td>\n      <td>9.23</td>\n      <td>7.57</td>\n      <td>5.4</td>\n      <td>13.54</td>\n      <td>17.25</td>\n      <td>19.0</td>\n    </tr>\n    <tr>\n      <th>2</th>\n      <td>200.0</td>\n      <td>13.45</td>\n      <td>11.73</td>\n      <td>8.37</td>\n      <td>6.52</td>\n      <td>4.43</td>\n      <td>11.65</td>\n      <td>15.1</td>\n      <td>17.09</td>\n    </tr>\n    <tr>\n      <th>3</th>\n      <td>202.5</td>\n      <td>11.85</td>\n      <td>9.98</td>\n      <td>7.52</td>\n      <td>5.5</td>\n      <td>3.6</td>\n      <td>9.82</td>\n      <td>12.9</td>\n      <td>15.49</td>\n    </tr>\n    <tr>\n      <th>4</th>\n      <td>205.0</td>\n      <td>10.59</td>\n      <td>8.25</td>\n      <td>6.5</td>\n      <td>4.75</td>\n      <td>2.92</td>\n      <td>8.25</td>\n      <td>10.8</td>\n      <td>13.64</td>\n    </tr>\n    <tr>\n      <th>5</th>\n      <td>207.5</td>\n      <td>9.35</td>\n      <td>7.11</td>\n      <td>5.0</td>\n      <td>3.98</td>\n      <td>2.36</td>\n      <td>6.81</td>\n      <td>8.95</td>\n      <td>11.21</td>\n    </tr>\n    <tr>\n      <th>6</th>\n      <td>210.0</td>\n      <td>8.25</td>\n      <td>6.21</td>\n      <td>4.44</td>\n      <td>3.35</td>\n      <td>1.92</td>\n      <td>5.56</td>\n      <td>7.2</td>\n      <td>9.99</td>\n    </tr>\n    <tr>\n      <th>7</th>\n      <td>212.5</td>\n      <td>7.2</td>\n      <td>5.09</td>\n      <td>3.75</td>\n      <td>2.83</td>\n      <td>1.51</td>\n      <td>4.5</td>\n      <td>5.75</td>\n      <td>8.56</td>\n    </tr>\n  </tbody>\n</table>\n</div>"
          },
          "metadata": {}
        }
      ]
    },
    {
      "cell_type": "code",
      "source": "days_count = len(var_table.axes[1]) - 1\nstrike_count = len(var_table['Strike'])\nY = (days_count + 1)/252\n\nfor j in range(strike_count):\n    delta_t = 0\n    # print(\"strike = \" + str(var_table['Strike'][j]))\n    for i in range(days_count):\n        delta_t = delta_t + 1/252\n        # print(\"delta_t\" + str(delta_t))\n        VaR = monte_carlo_VaR(n, nu, delta, mu, S0, delta_t, teta, sigma, Y, var_table['Strike'][j], r)\n        # print(\"p_(t+1)\" + str(mc['p_(t+1)'][0]))\n        var_table.at[j, var_table.columns[i + 1]] = VaR\n    \nvar_table",
      "metadata": {
        "trusted": true
      },
      "execution_count": 10,
      "outputs": [
        {
          "execution_count": 10,
          "output_type": "execute_result",
          "data": {
            "text/plain": "   Strike 10.02.2023 11.02.2023 12.02.2023 13.02.2023 14.02.2023 15.02.2023  \\\n0   195.0  20.398215  17.439923  16.980837  14.644912  12.582984   9.458606   \n1   197.5  19.922578  18.401621   16.14181  14.690004  10.856151   9.873068   \n2   200.0   21.11954  17.483676  16.415553  14.256165  11.720501   8.122214   \n3   202.5  19.849393  19.385506  16.242464   14.16505  11.763062   9.301298   \n4   205.0  19.570994  18.558282  15.347842  13.874757   11.38161   8.272163   \n5   207.5  20.460475  17.629859  16.390173  14.665805  11.181655   8.697775   \n6   210.0  20.133661  17.222634  15.913366  12.971725  11.349459   8.864418   \n7   212.5  20.221994  17.327457  14.998377  13.275748   10.79803   8.193771   \n\n  16.02.2023 17.02.2023  \n0   6.500048   1.738269  \n1   5.865228   2.208255  \n2   6.023338   2.186244  \n3   5.474278   2.636403  \n4   6.328363   2.294144  \n5    5.26849   1.842774  \n6   6.179311    1.66549  \n7   6.356446   2.073654  ",
            "text/html": "<div>\n<style scoped>\n    .dataframe tbody tr th:only-of-type {\n        vertical-align: middle;\n    }\n\n    .dataframe tbody tr th {\n        vertical-align: top;\n    }\n\n    .dataframe thead th {\n        text-align: right;\n    }\n</style>\n<table border=\"1\" class=\"dataframe\">\n  <thead>\n    <tr style=\"text-align: right;\">\n      <th></th>\n      <th>Strike</th>\n      <th>10.02.2023</th>\n      <th>11.02.2023</th>\n      <th>12.02.2023</th>\n      <th>13.02.2023</th>\n      <th>14.02.2023</th>\n      <th>15.02.2023</th>\n      <th>16.02.2023</th>\n      <th>17.02.2023</th>\n    </tr>\n  </thead>\n  <tbody>\n    <tr>\n      <th>0</th>\n      <td>195.0</td>\n      <td>20.398215</td>\n      <td>17.439923</td>\n      <td>16.980837</td>\n      <td>14.644912</td>\n      <td>12.582984</td>\n      <td>9.458606</td>\n      <td>6.500048</td>\n      <td>1.738269</td>\n    </tr>\n    <tr>\n      <th>1</th>\n      <td>197.5</td>\n      <td>19.922578</td>\n      <td>18.401621</td>\n      <td>16.14181</td>\n      <td>14.690004</td>\n      <td>10.856151</td>\n      <td>9.873068</td>\n      <td>5.865228</td>\n      <td>2.208255</td>\n    </tr>\n    <tr>\n      <th>2</th>\n      <td>200.0</td>\n      <td>21.11954</td>\n      <td>17.483676</td>\n      <td>16.415553</td>\n      <td>14.256165</td>\n      <td>11.720501</td>\n      <td>8.122214</td>\n      <td>6.023338</td>\n      <td>2.186244</td>\n    </tr>\n    <tr>\n      <th>3</th>\n      <td>202.5</td>\n      <td>19.849393</td>\n      <td>19.385506</td>\n      <td>16.242464</td>\n      <td>14.16505</td>\n      <td>11.763062</td>\n      <td>9.301298</td>\n      <td>5.474278</td>\n      <td>2.636403</td>\n    </tr>\n    <tr>\n      <th>4</th>\n      <td>205.0</td>\n      <td>19.570994</td>\n      <td>18.558282</td>\n      <td>15.347842</td>\n      <td>13.874757</td>\n      <td>11.38161</td>\n      <td>8.272163</td>\n      <td>6.328363</td>\n      <td>2.294144</td>\n    </tr>\n    <tr>\n      <th>5</th>\n      <td>207.5</td>\n      <td>20.460475</td>\n      <td>17.629859</td>\n      <td>16.390173</td>\n      <td>14.665805</td>\n      <td>11.181655</td>\n      <td>8.697775</td>\n      <td>5.26849</td>\n      <td>1.842774</td>\n    </tr>\n    <tr>\n      <th>6</th>\n      <td>210.0</td>\n      <td>20.133661</td>\n      <td>17.222634</td>\n      <td>15.913366</td>\n      <td>12.971725</td>\n      <td>11.349459</td>\n      <td>8.864418</td>\n      <td>6.179311</td>\n      <td>1.66549</td>\n    </tr>\n    <tr>\n      <th>7</th>\n      <td>212.5</td>\n      <td>20.221994</td>\n      <td>17.327457</td>\n      <td>14.998377</td>\n      <td>13.275748</td>\n      <td>10.79803</td>\n      <td>8.193771</td>\n      <td>6.356446</td>\n      <td>2.073654</td>\n    </tr>\n  </tbody>\n</table>\n</div>"
          },
          "metadata": {}
        }
      ]
    },
    {
      "cell_type": "code",
      "source": "option_table.columns.name = None\noption_table = option_table.reset_index()\nfailures_table = option_table.copy()\n\nfor j in range(strike_count):\n    p0 = option_price(Y, var_table['Strike'][j], S0, d1_cdf, d2_cdf, r, nu, delta, sigma)\n    for i in range(days_count):\n        VaR = var_table.at[j, var_table.columns[i + 1]]\n        p_diff = option_table.at[j, option_table.columns[i + 1]] - p0\n        if (abs(p_diff) > abs(VaR)):\n            failures_table.at[j, failures_table.columns[i + 1]] = 0\n        else:\n            failures_table.at[j, failures_table.columns[i + 1]] = 1\n\nfailures_table",
      "metadata": {
        "trusted": true
      },
      "execution_count": 26,
      "outputs": [
        {
          "execution_count": 26,
          "output_type": "execute_result",
          "data": {
            "text/plain": "   Strike 10.02.2023 11.02.2023 12.02.2023 13.02.2023 14.02.2023 15.02.2023  \\\n0   195.0          1          1          1          1          1          1   \n1   197.5          1          1          1          1          1          1   \n2   200.0          1          1          1          1          1          1   \n3   202.5          1          1          1          1          1          1   \n4   205.0          1          1          1          1          1          1   \n5   207.5          1          1          1          1          1          1   \n6   210.0          1          1          1          1          1          1   \n7   212.5          1          1          1          1          1          1   \n\n  16.02.2023 17.02.2023  \n0          0          0  \n1          0          0  \n2          0          0  \n3          0          0  \n4          1          0  \n5          1          0  \n6          1          0  \n7          1          0  ",
            "text/html": "<div>\n<style scoped>\n    .dataframe tbody tr th:only-of-type {\n        vertical-align: middle;\n    }\n\n    .dataframe tbody tr th {\n        vertical-align: top;\n    }\n\n    .dataframe thead th {\n        text-align: right;\n    }\n</style>\n<table border=\"1\" class=\"dataframe\">\n  <thead>\n    <tr style=\"text-align: right;\">\n      <th></th>\n      <th>Strike</th>\n      <th>10.02.2023</th>\n      <th>11.02.2023</th>\n      <th>12.02.2023</th>\n      <th>13.02.2023</th>\n      <th>14.02.2023</th>\n      <th>15.02.2023</th>\n      <th>16.02.2023</th>\n      <th>17.02.2023</th>\n    </tr>\n  </thead>\n  <tbody>\n    <tr>\n      <th>0</th>\n      <td>195.0</td>\n      <td>1</td>\n      <td>1</td>\n      <td>1</td>\n      <td>1</td>\n      <td>1</td>\n      <td>1</td>\n      <td>0</td>\n      <td>0</td>\n    </tr>\n    <tr>\n      <th>1</th>\n      <td>197.5</td>\n      <td>1</td>\n      <td>1</td>\n      <td>1</td>\n      <td>1</td>\n      <td>1</td>\n      <td>1</td>\n      <td>0</td>\n      <td>0</td>\n    </tr>\n    <tr>\n      <th>2</th>\n      <td>200.0</td>\n      <td>1</td>\n      <td>1</td>\n      <td>1</td>\n      <td>1</td>\n      <td>1</td>\n      <td>1</td>\n      <td>0</td>\n      <td>0</td>\n    </tr>\n    <tr>\n      <th>3</th>\n      <td>202.5</td>\n      <td>1</td>\n      <td>1</td>\n      <td>1</td>\n      <td>1</td>\n      <td>1</td>\n      <td>1</td>\n      <td>0</td>\n      <td>0</td>\n    </tr>\n    <tr>\n      <th>4</th>\n      <td>205.0</td>\n      <td>1</td>\n      <td>1</td>\n      <td>1</td>\n      <td>1</td>\n      <td>1</td>\n      <td>1</td>\n      <td>1</td>\n      <td>0</td>\n    </tr>\n    <tr>\n      <th>5</th>\n      <td>207.5</td>\n      <td>1</td>\n      <td>1</td>\n      <td>1</td>\n      <td>1</td>\n      <td>1</td>\n      <td>1</td>\n      <td>1</td>\n      <td>0</td>\n    </tr>\n    <tr>\n      <th>6</th>\n      <td>210.0</td>\n      <td>1</td>\n      <td>1</td>\n      <td>1</td>\n      <td>1</td>\n      <td>1</td>\n      <td>1</td>\n      <td>1</td>\n      <td>0</td>\n    </tr>\n    <tr>\n      <th>7</th>\n      <td>212.5</td>\n      <td>1</td>\n      <td>1</td>\n      <td>1</td>\n      <td>1</td>\n      <td>1</td>\n      <td>1</td>\n      <td>1</td>\n      <td>0</td>\n    </tr>\n  </tbody>\n</table>\n</div>"
          },
          "metadata": {}
        }
      ]
    },
    {
      "cell_type": "code",
      "source": "prob = 0.05\nn = days_count*strike_count\nx = 0\nfor j in range(strike_count):\n    for i in range(days_count):\n        if failures_table.at[j, failures_table.columns[i + 1]] == 0:\n            x += 1\nLR = -2*math.log(((1 - prob)**(n - x))*(prob**x)) + 2*math.log(((1 - (x/n))**(n - x))*((x/n)**x))\nprint(\"Test statistics = \" + str(LR))\n\np_value = 1 - chi2.cdf(LR, 1)\nprint(\"p-value = \" + str(p_value))",
      "metadata": {
        "trusted": true
      },
      "execution_count": 69,
      "outputs": [
        {
          "name": "stdout",
          "text": "Test statistics = 15.462148838943499\np-value = 8.417412780192812e-05\n",
          "output_type": "stream"
        }
      ]
    },
    {
      "cell_type": "code",
      "source": "prob_arr = [0.05, 0.1, 0.11, 0.12, 0.15, 0.2]\ntest_table = pd.DataFrame({'Null hypothesis probability': prob_arr, 'LR': [0, 0, 0, 0, 0, 0], 'p-value': [0, 0, 0, 0, 0, 0]})\n\nfor i in range(len(prob_arr)):\n    LR = -2*math.log(((1 - prob_arr[i])**(n - x))*(prob_arr[i]**x)) + 2*math.log(((1 - (x/n))**(n - x))*((x/n)**x))\n    p_value = 1 - chi2.cdf(LR, 1)\n    \n    test_table.loc[test_table['Null hypothesis probability'] == prob_arr[i], ['LR']] = LR\n    test_table.loc[test_table['Null hypothesis probability'] == prob_arr[i], ['p-value']] = p_value\n\ntest_table",
      "metadata": {
        "trusted": true
      },
      "execution_count": 70,
      "outputs": [
        {
          "execution_count": 70,
          "output_type": "execute_result",
          "data": {
            "text/plain": "   Null hypothesis probability         LR   p-value\n0                         0.05  15.462149  0.000084\n1                         0.10   4.449608  0.034909\n2                         0.11   3.324186  0.068268\n3                         0.12   2.411067  0.120480\n4                         0.15   0.662920  0.415531\n5                         0.20   0.063511  0.801030",
            "text/html": "<div>\n<style scoped>\n    .dataframe tbody tr th:only-of-type {\n        vertical-align: middle;\n    }\n\n    .dataframe tbody tr th {\n        vertical-align: top;\n    }\n\n    .dataframe thead th {\n        text-align: right;\n    }\n</style>\n<table border=\"1\" class=\"dataframe\">\n  <thead>\n    <tr style=\"text-align: right;\">\n      <th></th>\n      <th>Null hypothesis probability</th>\n      <th>LR</th>\n      <th>p-value</th>\n    </tr>\n  </thead>\n  <tbody>\n    <tr>\n      <th>0</th>\n      <td>0.05</td>\n      <td>15.462149</td>\n      <td>0.000084</td>\n    </tr>\n    <tr>\n      <th>1</th>\n      <td>0.10</td>\n      <td>4.449608</td>\n      <td>0.034909</td>\n    </tr>\n    <tr>\n      <th>2</th>\n      <td>0.11</td>\n      <td>3.324186</td>\n      <td>0.068268</td>\n    </tr>\n    <tr>\n      <th>3</th>\n      <td>0.12</td>\n      <td>2.411067</td>\n      <td>0.120480</td>\n    </tr>\n    <tr>\n      <th>4</th>\n      <td>0.15</td>\n      <td>0.662920</td>\n      <td>0.415531</td>\n    </tr>\n    <tr>\n      <th>5</th>\n      <td>0.20</td>\n      <td>0.063511</td>\n      <td>0.801030</td>\n    </tr>\n  </tbody>\n</table>\n</div>"
          },
          "metadata": {}
        }
      ]
    }
  ]
}